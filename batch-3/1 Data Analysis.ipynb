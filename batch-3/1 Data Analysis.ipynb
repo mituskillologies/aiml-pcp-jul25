{
 "cells": [
  {
   "cell_type": "code",
   "execution_count": 2,
   "id": "fc7a53d8-97c3-43f7-b195-c38ff6813ce4",
   "metadata": {},
   "outputs": [
    {
     "name": "stdout",
     "output_type": "stream",
     "text": [
      "Hello World!\n"
     ]
    }
   ],
   "source": [
    "print('Hello World!')    # Shift Enter"
   ]
  },
  {
   "cell_type": "code",
   "execution_count": 3,
   "id": "820391ee-cc19-4285-a088-1b96f5a9f9e2",
   "metadata": {},
   "outputs": [
    {
     "name": "stdout",
     "output_type": "stream",
     "text": [
      "Addition is 100\n"
     ]
    }
   ],
   "source": [
    "num1 = 47\n",
    "num2 = 53\n",
    "add = num1 + num2\n",
    "print('Addition is', add)"
   ]
  },
  {
   "cell_type": "code",
   "execution_count": 4,
   "id": "5a4c1679-d0ba-4040-a716-d1a45069b649",
   "metadata": {},
   "outputs": [
    {
     "data": {
      "text/plain": [
       "int"
      ]
     },
     "execution_count": 4,
     "metadata": {},
     "output_type": "execute_result"
    }
   ],
   "source": [
    "type(num1)"
   ]
  },
  {
   "cell_type": "code",
   "execution_count": 5,
   "id": "2554ed13-cfc3-45ed-b7ae-a5b7ce381f86",
   "metadata": {},
   "outputs": [
    {
     "data": {
      "text/plain": [
       "float"
      ]
     },
     "execution_count": 5,
     "metadata": {},
     "output_type": "execute_result"
    }
   ],
   "source": [
    "num1= 67.4\n",
    "type(num1)"
   ]
  },
  {
   "cell_type": "markdown",
   "id": "e58905ed-50a5-4d8f-ad40-b45af1b2c4e7",
   "metadata": {},
   "source": [
    "##### List Operations"
   ]
  },
  {
   "cell_type": "code",
   "execution_count": 6,
   "id": "4de6e329-6baa-416e-bbaa-345d7859e53f",
   "metadata": {},
   "outputs": [],
   "source": [
    "num = [45, 43, 12, 78.9, \"Pune\", 28]"
   ]
  },
  {
   "cell_type": "code",
   "execution_count": 7,
   "id": "3776243f-297f-4c57-ab77-6fdaa931fc32",
   "metadata": {},
   "outputs": [
    {
     "data": {
      "text/plain": [
       "list"
      ]
     },
     "execution_count": 7,
     "metadata": {},
     "output_type": "execute_result"
    }
   ],
   "source": [
    "type(num)"
   ]
  },
  {
   "cell_type": "code",
   "execution_count": 8,
   "id": "67984d3f-8bb5-4d20-8c25-b36b64915649",
   "metadata": {},
   "outputs": [
    {
     "data": {
      "text/plain": [
       "78.9"
      ]
     },
     "execution_count": 8,
     "metadata": {},
     "output_type": "execute_result"
    }
   ],
   "source": [
    "num[3]"
   ]
  },
  {
   "cell_type": "markdown",
   "id": "9a1e3754-4caa-45c9-a5e4-9bca0fefa10e",
   "metadata": {},
   "source": [
    "##### Array Operations"
   ]
  },
  {
   "cell_type": "code",
   "execution_count": 10,
   "id": "6843516b-0fcc-4324-89f2-e6c6677bc395",
   "metadata": {},
   "outputs": [],
   "source": [
    "import numpy as np"
   ]
  },
  {
   "cell_type": "code",
   "execution_count": 11,
   "id": "425f4ede-7117-4169-b329-c032beacc99e",
   "metadata": {},
   "outputs": [],
   "source": [
    "x = np.array([56, 23, 11, 76, 49, 82, 37])"
   ]
  },
  {
   "cell_type": "code",
   "execution_count": 12,
   "id": "d1e95789-3849-469e-901d-609f74a97142",
   "metadata": {},
   "outputs": [
    {
     "data": {
      "text/plain": [
       "array([56, 23, 11, 76, 49, 82, 37])"
      ]
     },
     "execution_count": 12,
     "metadata": {},
     "output_type": "execute_result"
    }
   ],
   "source": [
    "x"
   ]
  },
  {
   "cell_type": "code",
   "execution_count": 13,
   "id": "c761d5d9-e2a6-4bca-9988-b808d430cfff",
   "metadata": {},
   "outputs": [
    {
     "data": {
      "text/plain": [
       "49"
      ]
     },
     "execution_count": 13,
     "metadata": {},
     "output_type": "execute_result"
    }
   ],
   "source": [
    "x[4]"
   ]
  },
  {
   "cell_type": "code",
   "execution_count": 14,
   "id": "23e2847d-6db0-4a3b-884a-ec32b5f1457c",
   "metadata": {},
   "outputs": [
    {
     "data": {
      "text/plain": [
       "array([112,  46,  22, 152,  98, 164,  74])"
      ]
     },
     "execution_count": 14,
     "metadata": {},
     "output_type": "execute_result"
    }
   ],
   "source": [
    "x * 2"
   ]
  },
  {
   "cell_type": "code",
   "execution_count": 15,
   "id": "80f3ccaa-315a-4c14-8595-15b5f19a1b5f",
   "metadata": {},
   "outputs": [
    {
     "data": {
      "text/plain": [
       "82"
      ]
     },
     "execution_count": 15,
     "metadata": {},
     "output_type": "execute_result"
    }
   ],
   "source": [
    "x.max()"
   ]
  },
  {
   "cell_type": "code",
   "execution_count": 16,
   "id": "93e4d77f-c450-4bf1-8d95-ad15e6390158",
   "metadata": {},
   "outputs": [
    {
     "data": {
      "text/plain": [
       "47.714285714285715"
      ]
     },
     "execution_count": 16,
     "metadata": {},
     "output_type": "execute_result"
    }
   ],
   "source": [
    "x.mean()"
   ]
  },
  {
   "cell_type": "markdown",
   "id": "2994121a-4a65-4a8d-a02a-46293ce77d77",
   "metadata": {},
   "source": [
    "##### Series Data Operations"
   ]
  },
  {
   "cell_type": "code",
   "execution_count": 18,
   "id": "37693b42-54f3-45d5-8261-4edbf830a8b3",
   "metadata": {},
   "outputs": [],
   "source": [
    "import pandas as pd"
   ]
  },
  {
   "cell_type": "code",
   "execution_count": 19,
   "id": "79d4e5b7-777f-4633-b6a4-0f855625ea9b",
   "metadata": {},
   "outputs": [],
   "source": [
    "s = pd.Series([34, 12, 37, 65, 27, 82, 59])"
   ]
  },
  {
   "cell_type": "code",
   "execution_count": 20,
   "id": "0f9ef1a5-269a-4f4f-b068-2da2ffb20177",
   "metadata": {},
   "outputs": [
    {
     "data": {
      "text/plain": [
       "0    34\n",
       "1    12\n",
       "2    37\n",
       "3    65\n",
       "4    27\n",
       "5    82\n",
       "6    59\n",
       "dtype: int64"
      ]
     },
     "execution_count": 20,
     "metadata": {},
     "output_type": "execute_result"
    }
   ],
   "source": [
    "s"
   ]
  },
  {
   "cell_type": "markdown",
   "id": "51bd9be0-340c-4951-b159-e8537555093f",
   "metadata": {},
   "source": [
    "##### DataFrame"
   ]
  },
  {
   "cell_type": "code",
   "execution_count": 22,
   "id": "a277e0f3-d5c6-42fc-a9f2-c3f62c262839",
   "metadata": {},
   "outputs": [],
   "source": [
    "s1 = pd.Series([1,2,3,4,5])\n",
    "s2 = pd.Series(['amar','nita','raj','priya','akash'])\n",
    "s3 = pd.Series([56.90,  67.87,  72.56,  61.05,  77.83])"
   ]
  },
  {
   "cell_type": "code",
   "execution_count": 23,
   "id": "62bf2583-1e8b-484f-a0fc-92e1034d9a6a",
   "metadata": {},
   "outputs": [],
   "source": [
    "df = pd.DataFrame({\n",
    "    'roll': s1,\n",
    "    'name': s2,\n",
    "    'marks': s3\n",
    "})"
   ]
  },
  {
   "cell_type": "code",
   "execution_count": 24,
   "id": "bd8995fb-d5ba-4fa9-8d8a-9e126a285b50",
   "metadata": {},
   "outputs": [
    {
     "data": {
      "text/html": [
       "<div>\n",
       "<style scoped>\n",
       "    .dataframe tbody tr th:only-of-type {\n",
       "        vertical-align: middle;\n",
       "    }\n",
       "\n",
       "    .dataframe tbody tr th {\n",
       "        vertical-align: top;\n",
       "    }\n",
       "\n",
       "    .dataframe thead th {\n",
       "        text-align: right;\n",
       "    }\n",
       "</style>\n",
       "<table border=\"1\" class=\"dataframe\">\n",
       "  <thead>\n",
       "    <tr style=\"text-align: right;\">\n",
       "      <th></th>\n",
       "      <th>roll</th>\n",
       "      <th>name</th>\n",
       "      <th>marks</th>\n",
       "    </tr>\n",
       "  </thead>\n",
       "  <tbody>\n",
       "    <tr>\n",
       "      <th>0</th>\n",
       "      <td>1</td>\n",
       "      <td>amar</td>\n",
       "      <td>56.90</td>\n",
       "    </tr>\n",
       "    <tr>\n",
       "      <th>1</th>\n",
       "      <td>2</td>\n",
       "      <td>nita</td>\n",
       "      <td>67.87</td>\n",
       "    </tr>\n",
       "    <tr>\n",
       "      <th>2</th>\n",
       "      <td>3</td>\n",
       "      <td>raj</td>\n",
       "      <td>72.56</td>\n",
       "    </tr>\n",
       "    <tr>\n",
       "      <th>3</th>\n",
       "      <td>4</td>\n",
       "      <td>priya</td>\n",
       "      <td>61.05</td>\n",
       "    </tr>\n",
       "    <tr>\n",
       "      <th>4</th>\n",
       "      <td>5</td>\n",
       "      <td>akash</td>\n",
       "      <td>77.83</td>\n",
       "    </tr>\n",
       "  </tbody>\n",
       "</table>\n",
       "</div>"
      ],
      "text/plain": [
       "   roll   name  marks\n",
       "0     1   amar  56.90\n",
       "1     2   nita  67.87\n",
       "2     3    raj  72.56\n",
       "3     4  priya  61.05\n",
       "4     5  akash  77.83"
      ]
     },
     "execution_count": 24,
     "metadata": {},
     "output_type": "execute_result"
    }
   ],
   "source": [
    "df"
   ]
  },
  {
   "cell_type": "markdown",
   "id": "c443a636-6885-4534-aaf3-90741d5b3f40",
   "metadata": {},
   "source": [
    "##### Data Operations"
   ]
  },
  {
   "cell_type": "code",
   "execution_count": null,
   "id": "9307a671-5c47-4c78-a315-781adaf7bbea",
   "metadata": {},
   "outputs": [],
   "source": [
    "Location->   https://mitu.co.in/dataset\n",
    "Download->   student.csv"
   ]
  },
  {
   "cell_type": "code",
   "execution_count": 26,
   "id": "ad09bf0e-cd2a-47dc-a109-9cbebaf6537b",
   "metadata": {},
   "outputs": [
    {
     "data": {
      "text/plain": [
       "'/home/mitu/pcp-3'"
      ]
     },
     "execution_count": 26,
     "metadata": {},
     "output_type": "execute_result"
    }
   ],
   "source": [
    "import os\n",
    "os.getcwd()"
   ]
  },
  {
   "cell_type": "code",
   "execution_count": 29,
   "id": "25249a17-a777-4324-a168-884c4c17fb54",
   "metadata": {},
   "outputs": [],
   "source": [
    "# import the dataset\n",
    "df = pd.read_csv('student.csv')"
   ]
  },
  {
   "cell_type": "code",
   "execution_count": 30,
   "id": "85386812-1de7-425b-ac3c-8f0303464779",
   "metadata": {},
   "outputs": [
    {
     "data": {
      "text/html": [
       "<div>\n",
       "<style scoped>\n",
       "    .dataframe tbody tr th:only-of-type {\n",
       "        vertical-align: middle;\n",
       "    }\n",
       "\n",
       "    .dataframe tbody tr th {\n",
       "        vertical-align: top;\n",
       "    }\n",
       "\n",
       "    .dataframe thead th {\n",
       "        text-align: right;\n",
       "    }\n",
       "</style>\n",
       "<table border=\"1\" class=\"dataframe\">\n",
       "  <thead>\n",
       "    <tr style=\"text-align: right;\">\n",
       "      <th></th>\n",
       "      <th>roll</th>\n",
       "      <th>name</th>\n",
       "      <th>class</th>\n",
       "      <th>marks</th>\n",
       "      <th>age</th>\n",
       "    </tr>\n",
       "  </thead>\n",
       "  <tbody>\n",
       "    <tr>\n",
       "      <th>0</th>\n",
       "      <td>1</td>\n",
       "      <td>anil</td>\n",
       "      <td>TE</td>\n",
       "      <td>56.77</td>\n",
       "      <td>22</td>\n",
       "    </tr>\n",
       "    <tr>\n",
       "      <th>1</th>\n",
       "      <td>2</td>\n",
       "      <td>amit</td>\n",
       "      <td>TE</td>\n",
       "      <td>59.77</td>\n",
       "      <td>21</td>\n",
       "    </tr>\n",
       "    <tr>\n",
       "      <th>2</th>\n",
       "      <td>3</td>\n",
       "      <td>aniket</td>\n",
       "      <td>BE</td>\n",
       "      <td>76.88</td>\n",
       "      <td>19</td>\n",
       "    </tr>\n",
       "    <tr>\n",
       "      <th>3</th>\n",
       "      <td>4</td>\n",
       "      <td>ajinkya</td>\n",
       "      <td>TE</td>\n",
       "      <td>69.66</td>\n",
       "      <td>20</td>\n",
       "    </tr>\n",
       "    <tr>\n",
       "      <th>4</th>\n",
       "      <td>5</td>\n",
       "      <td>asha</td>\n",
       "      <td>TE</td>\n",
       "      <td>63.28</td>\n",
       "      <td>20</td>\n",
       "    </tr>\n",
       "    <tr>\n",
       "      <th>5</th>\n",
       "      <td>6</td>\n",
       "      <td>ayesha</td>\n",
       "      <td>BE</td>\n",
       "      <td>49.55</td>\n",
       "      <td>20</td>\n",
       "    </tr>\n",
       "    <tr>\n",
       "      <th>6</th>\n",
       "      <td>7</td>\n",
       "      <td>amar</td>\n",
       "      <td>BE</td>\n",
       "      <td>65.34</td>\n",
       "      <td>19</td>\n",
       "    </tr>\n",
       "    <tr>\n",
       "      <th>7</th>\n",
       "      <td>8</td>\n",
       "      <td>amita</td>\n",
       "      <td>BE</td>\n",
       "      <td>68.33</td>\n",
       "      <td>23</td>\n",
       "    </tr>\n",
       "    <tr>\n",
       "      <th>8</th>\n",
       "      <td>9</td>\n",
       "      <td>amol</td>\n",
       "      <td>TE</td>\n",
       "      <td>56.75</td>\n",
       "      <td>20</td>\n",
       "    </tr>\n",
       "    <tr>\n",
       "      <th>9</th>\n",
       "      <td>10</td>\n",
       "      <td>anmol</td>\n",
       "      <td>BE</td>\n",
       "      <td>78.66</td>\n",
       "      <td>21</td>\n",
       "    </tr>\n",
       "  </tbody>\n",
       "</table>\n",
       "</div>"
      ],
      "text/plain": [
       "   roll     name class  marks  age\n",
       "0     1     anil    TE  56.77   22\n",
       "1     2     amit    TE  59.77   21\n",
       "2     3   aniket    BE  76.88   19\n",
       "3     4  ajinkya    TE  69.66   20\n",
       "4     5     asha    TE  63.28   20\n",
       "5     6   ayesha    BE  49.55   20\n",
       "6     7     amar    BE  65.34   19\n",
       "7     8    amita    BE  68.33   23\n",
       "8     9     amol    TE  56.75   20\n",
       "9    10    anmol    BE  78.66   21"
      ]
     },
     "execution_count": 30,
     "metadata": {},
     "output_type": "execute_result"
    }
   ],
   "source": [
    "df"
   ]
  },
  {
   "cell_type": "code",
   "execution_count": 32,
   "id": "871774ca-2381-42cb-be2e-cad8a883cb32",
   "metadata": {},
   "outputs": [
    {
     "data": {
      "text/plain": [
       "(10, 5)"
      ]
     },
     "execution_count": 32,
     "metadata": {},
     "output_type": "execute_result"
    }
   ],
   "source": [
    "# number of rows and columns\n",
    "df.shape"
   ]
  },
  {
   "cell_type": "code",
   "execution_count": 33,
   "id": "dab4d6ae-502a-49a5-81d5-c3ca4efe79f7",
   "metadata": {},
   "outputs": [
    {
     "data": {
      "text/plain": [
       "Index(['roll', 'name', 'class', 'marks', 'age'], dtype='object')"
      ]
     },
     "execution_count": 33,
     "metadata": {},
     "output_type": "execute_result"
    }
   ],
   "source": [
    "# names of columns\n",
    "df.columns"
   ]
  },
  {
   "cell_type": "code",
   "execution_count": 34,
   "id": "01ca1ccb-17a7-462e-adf0-8c2f84755696",
   "metadata": {},
   "outputs": [
    {
     "data": {
      "text/html": [
       "<div>\n",
       "<style scoped>\n",
       "    .dataframe tbody tr th:only-of-type {\n",
       "        vertical-align: middle;\n",
       "    }\n",
       "\n",
       "    .dataframe tbody tr th {\n",
       "        vertical-align: top;\n",
       "    }\n",
       "\n",
       "    .dataframe thead th {\n",
       "        text-align: right;\n",
       "    }\n",
       "</style>\n",
       "<table border=\"1\" class=\"dataframe\">\n",
       "  <thead>\n",
       "    <tr style=\"text-align: right;\">\n",
       "      <th></th>\n",
       "      <th>roll</th>\n",
       "      <th>name</th>\n",
       "      <th>class</th>\n",
       "      <th>marks</th>\n",
       "      <th>age</th>\n",
       "    </tr>\n",
       "  </thead>\n",
       "  <tbody>\n",
       "    <tr>\n",
       "      <th>0</th>\n",
       "      <td>1</td>\n",
       "      <td>anil</td>\n",
       "      <td>TE</td>\n",
       "      <td>56.77</td>\n",
       "      <td>22</td>\n",
       "    </tr>\n",
       "    <tr>\n",
       "      <th>1</th>\n",
       "      <td>2</td>\n",
       "      <td>amit</td>\n",
       "      <td>TE</td>\n",
       "      <td>59.77</td>\n",
       "      <td>21</td>\n",
       "    </tr>\n",
       "    <tr>\n",
       "      <th>2</th>\n",
       "      <td>3</td>\n",
       "      <td>aniket</td>\n",
       "      <td>BE</td>\n",
       "      <td>76.88</td>\n",
       "      <td>19</td>\n",
       "    </tr>\n",
       "    <tr>\n",
       "      <th>3</th>\n",
       "      <td>4</td>\n",
       "      <td>ajinkya</td>\n",
       "      <td>TE</td>\n",
       "      <td>69.66</td>\n",
       "      <td>20</td>\n",
       "    </tr>\n",
       "    <tr>\n",
       "      <th>4</th>\n",
       "      <td>5</td>\n",
       "      <td>asha</td>\n",
       "      <td>TE</td>\n",
       "      <td>63.28</td>\n",
       "      <td>20</td>\n",
       "    </tr>\n",
       "  </tbody>\n",
       "</table>\n",
       "</div>"
      ],
      "text/plain": [
       "   roll     name class  marks  age\n",
       "0     1     anil    TE  56.77   22\n",
       "1     2     amit    TE  59.77   21\n",
       "2     3   aniket    BE  76.88   19\n",
       "3     4  ajinkya    TE  69.66   20\n",
       "4     5     asha    TE  63.28   20"
      ]
     },
     "execution_count": 34,
     "metadata": {},
     "output_type": "execute_result"
    }
   ],
   "source": [
    "# first five rows\n",
    "df.head()"
   ]
  },
  {
   "cell_type": "code",
   "execution_count": 35,
   "id": "74adb900-b7fd-4ce1-9d04-9d28b07a609e",
   "metadata": {},
   "outputs": [
    {
     "name": "stdout",
     "output_type": "stream",
     "text": [
      "<class 'pandas.core.frame.DataFrame'>\n",
      "RangeIndex: 10 entries, 0 to 9\n",
      "Data columns (total 5 columns):\n",
      " #   Column  Non-Null Count  Dtype  \n",
      "---  ------  --------------  -----  \n",
      " 0   roll    10 non-null     int64  \n",
      " 1   name    10 non-null     object \n",
      " 2   class   10 non-null     object \n",
      " 3   marks   10 non-null     float64\n",
      " 4   age     10 non-null     int64  \n",
      "dtypes: float64(1), int64(2), object(2)\n",
      "memory usage: 528.0+ bytes\n"
     ]
    }
   ],
   "source": [
    "df.info()"
   ]
  },
  {
   "cell_type": "code",
   "execution_count": 36,
   "id": "6d4e5e24-a125-44a7-8c78-c45aee1546f4",
   "metadata": {},
   "outputs": [
    {
     "data": {
      "text/html": [
       "<div>\n",
       "<style scoped>\n",
       "    .dataframe tbody tr th:only-of-type {\n",
       "        vertical-align: middle;\n",
       "    }\n",
       "\n",
       "    .dataframe tbody tr th {\n",
       "        vertical-align: top;\n",
       "    }\n",
       "\n",
       "    .dataframe thead th {\n",
       "        text-align: right;\n",
       "    }\n",
       "</style>\n",
       "<table border=\"1\" class=\"dataframe\">\n",
       "  <thead>\n",
       "    <tr style=\"text-align: right;\">\n",
       "      <th></th>\n",
       "      <th>roll</th>\n",
       "      <th>marks</th>\n",
       "      <th>age</th>\n",
       "    </tr>\n",
       "  </thead>\n",
       "  <tbody>\n",
       "    <tr>\n",
       "      <th>count</th>\n",
       "      <td>10.00000</td>\n",
       "      <td>10.000000</td>\n",
       "      <td>10.000000</td>\n",
       "    </tr>\n",
       "    <tr>\n",
       "      <th>mean</th>\n",
       "      <td>5.50000</td>\n",
       "      <td>64.499000</td>\n",
       "      <td>20.500000</td>\n",
       "    </tr>\n",
       "    <tr>\n",
       "      <th>std</th>\n",
       "      <td>3.02765</td>\n",
       "      <td>9.207179</td>\n",
       "      <td>1.269296</td>\n",
       "    </tr>\n",
       "    <tr>\n",
       "      <th>min</th>\n",
       "      <td>1.00000</td>\n",
       "      <td>49.550000</td>\n",
       "      <td>19.000000</td>\n",
       "    </tr>\n",
       "    <tr>\n",
       "      <th>25%</th>\n",
       "      <td>3.25000</td>\n",
       "      <td>57.520000</td>\n",
       "      <td>20.000000</td>\n",
       "    </tr>\n",
       "    <tr>\n",
       "      <th>50%</th>\n",
       "      <td>5.50000</td>\n",
       "      <td>64.310000</td>\n",
       "      <td>20.000000</td>\n",
       "    </tr>\n",
       "    <tr>\n",
       "      <th>75%</th>\n",
       "      <td>7.75000</td>\n",
       "      <td>69.327500</td>\n",
       "      <td>21.000000</td>\n",
       "    </tr>\n",
       "    <tr>\n",
       "      <th>max</th>\n",
       "      <td>10.00000</td>\n",
       "      <td>78.660000</td>\n",
       "      <td>23.000000</td>\n",
       "    </tr>\n",
       "  </tbody>\n",
       "</table>\n",
       "</div>"
      ],
      "text/plain": [
       "           roll      marks        age\n",
       "count  10.00000  10.000000  10.000000\n",
       "mean    5.50000  64.499000  20.500000\n",
       "std     3.02765   9.207179   1.269296\n",
       "min     1.00000  49.550000  19.000000\n",
       "25%     3.25000  57.520000  20.000000\n",
       "50%     5.50000  64.310000  20.000000\n",
       "75%     7.75000  69.327500  21.000000\n",
       "max    10.00000  78.660000  23.000000"
      ]
     },
     "execution_count": 36,
     "metadata": {},
     "output_type": "execute_result"
    }
   ],
   "source": [
    "df.describe()"
   ]
  },
  {
   "cell_type": "markdown",
   "id": "978e0ede-a0ef-48e9-bd45-fa8ed345a592",
   "metadata": {},
   "source": [
    "##### Slicing  data"
   ]
  },
  {
   "cell_type": "code",
   "execution_count": 38,
   "id": "08ad1014-15f4-4a83-b5e9-3b650faacb4b",
   "metadata": {},
   "outputs": [],
   "source": [
    "x = df.iloc[2:7, 1:4]"
   ]
  },
  {
   "cell_type": "code",
   "execution_count": 39,
   "id": "701f6bc6-61ae-43cd-876c-c9aaa5c6e46a",
   "metadata": {},
   "outputs": [
    {
     "data": {
      "text/html": [
       "<div>\n",
       "<style scoped>\n",
       "    .dataframe tbody tr th:only-of-type {\n",
       "        vertical-align: middle;\n",
       "    }\n",
       "\n",
       "    .dataframe tbody tr th {\n",
       "        vertical-align: top;\n",
       "    }\n",
       "\n",
       "    .dataframe thead th {\n",
       "        text-align: right;\n",
       "    }\n",
       "</style>\n",
       "<table border=\"1\" class=\"dataframe\">\n",
       "  <thead>\n",
       "    <tr style=\"text-align: right;\">\n",
       "      <th></th>\n",
       "      <th>name</th>\n",
       "      <th>class</th>\n",
       "      <th>marks</th>\n",
       "    </tr>\n",
       "  </thead>\n",
       "  <tbody>\n",
       "    <tr>\n",
       "      <th>2</th>\n",
       "      <td>aniket</td>\n",
       "      <td>BE</td>\n",
       "      <td>76.88</td>\n",
       "    </tr>\n",
       "    <tr>\n",
       "      <th>3</th>\n",
       "      <td>ajinkya</td>\n",
       "      <td>TE</td>\n",
       "      <td>69.66</td>\n",
       "    </tr>\n",
       "    <tr>\n",
       "      <th>4</th>\n",
       "      <td>asha</td>\n",
       "      <td>TE</td>\n",
       "      <td>63.28</td>\n",
       "    </tr>\n",
       "    <tr>\n",
       "      <th>5</th>\n",
       "      <td>ayesha</td>\n",
       "      <td>BE</td>\n",
       "      <td>49.55</td>\n",
       "    </tr>\n",
       "    <tr>\n",
       "      <th>6</th>\n",
       "      <td>amar</td>\n",
       "      <td>BE</td>\n",
       "      <td>65.34</td>\n",
       "    </tr>\n",
       "  </tbody>\n",
       "</table>\n",
       "</div>"
      ],
      "text/plain": [
       "      name class  marks\n",
       "2   aniket    BE  76.88\n",
       "3  ajinkya    TE  69.66\n",
       "4     asha    TE  63.28\n",
       "5   ayesha    BE  49.55\n",
       "6     amar    BE  65.34"
      ]
     },
     "execution_count": 39,
     "metadata": {},
     "output_type": "execute_result"
    }
   ],
   "source": [
    "x"
   ]
  },
  {
   "cell_type": "code",
   "execution_count": 40,
   "id": "e1d62330-cd6c-4956-b98b-d32eb52b7fd5",
   "metadata": {},
   "outputs": [
    {
     "data": {
      "text/html": [
       "<div>\n",
       "<style scoped>\n",
       "    .dataframe tbody tr th:only-of-type {\n",
       "        vertical-align: middle;\n",
       "    }\n",
       "\n",
       "    .dataframe tbody tr th {\n",
       "        vertical-align: top;\n",
       "    }\n",
       "\n",
       "    .dataframe thead th {\n",
       "        text-align: right;\n",
       "    }\n",
       "</style>\n",
       "<table border=\"1\" class=\"dataframe\">\n",
       "  <thead>\n",
       "    <tr style=\"text-align: right;\">\n",
       "      <th></th>\n",
       "      <th>name</th>\n",
       "      <th>class</th>\n",
       "      <th>marks</th>\n",
       "    </tr>\n",
       "  </thead>\n",
       "  <tbody>\n",
       "    <tr>\n",
       "      <th>0</th>\n",
       "      <td>anil</td>\n",
       "      <td>TE</td>\n",
       "      <td>56.77</td>\n",
       "    </tr>\n",
       "    <tr>\n",
       "      <th>1</th>\n",
       "      <td>amit</td>\n",
       "      <td>TE</td>\n",
       "      <td>59.77</td>\n",
       "    </tr>\n",
       "    <tr>\n",
       "      <th>2</th>\n",
       "      <td>aniket</td>\n",
       "      <td>BE</td>\n",
       "      <td>76.88</td>\n",
       "    </tr>\n",
       "    <tr>\n",
       "      <th>3</th>\n",
       "      <td>ajinkya</td>\n",
       "      <td>TE</td>\n",
       "      <td>69.66</td>\n",
       "    </tr>\n",
       "    <tr>\n",
       "      <th>4</th>\n",
       "      <td>asha</td>\n",
       "      <td>TE</td>\n",
       "      <td>63.28</td>\n",
       "    </tr>\n",
       "    <tr>\n",
       "      <th>5</th>\n",
       "      <td>ayesha</td>\n",
       "      <td>BE</td>\n",
       "      <td>49.55</td>\n",
       "    </tr>\n",
       "    <tr>\n",
       "      <th>6</th>\n",
       "      <td>amar</td>\n",
       "      <td>BE</td>\n",
       "      <td>65.34</td>\n",
       "    </tr>\n",
       "    <tr>\n",
       "      <th>7</th>\n",
       "      <td>amita</td>\n",
       "      <td>BE</td>\n",
       "      <td>68.33</td>\n",
       "    </tr>\n",
       "    <tr>\n",
       "      <th>8</th>\n",
       "      <td>amol</td>\n",
       "      <td>TE</td>\n",
       "      <td>56.75</td>\n",
       "    </tr>\n",
       "    <tr>\n",
       "      <th>9</th>\n",
       "      <td>anmol</td>\n",
       "      <td>BE</td>\n",
       "      <td>78.66</td>\n",
       "    </tr>\n",
       "  </tbody>\n",
       "</table>\n",
       "</div>"
      ],
      "text/plain": [
       "      name class  marks\n",
       "0     anil    TE  56.77\n",
       "1     amit    TE  59.77\n",
       "2   aniket    BE  76.88\n",
       "3  ajinkya    TE  69.66\n",
       "4     asha    TE  63.28\n",
       "5   ayesha    BE  49.55\n",
       "6     amar    BE  65.34\n",
       "7    amita    BE  68.33\n",
       "8     amol    TE  56.75\n",
       "9    anmol    BE  78.66"
      ]
     },
     "execution_count": 40,
     "metadata": {},
     "output_type": "execute_result"
    }
   ],
   "source": [
    "df.iloc[:, 1:4]"
   ]
  },
  {
   "cell_type": "code",
   "execution_count": 41,
   "id": "12b54d0e-83ff-4f5d-a7a7-d25bfaccef75",
   "metadata": {},
   "outputs": [
    {
     "data": {
      "text/html": [
       "<div>\n",
       "<style scoped>\n",
       "    .dataframe tbody tr th:only-of-type {\n",
       "        vertical-align: middle;\n",
       "    }\n",
       "\n",
       "    .dataframe tbody tr th {\n",
       "        vertical-align: top;\n",
       "    }\n",
       "\n",
       "    .dataframe thead th {\n",
       "        text-align: right;\n",
       "    }\n",
       "</style>\n",
       "<table border=\"1\" class=\"dataframe\">\n",
       "  <thead>\n",
       "    <tr style=\"text-align: right;\">\n",
       "      <th></th>\n",
       "      <th>roll</th>\n",
       "      <th>name</th>\n",
       "      <th>class</th>\n",
       "      <th>marks</th>\n",
       "      <th>age</th>\n",
       "    </tr>\n",
       "  </thead>\n",
       "  <tbody>\n",
       "    <tr>\n",
       "      <th>2</th>\n",
       "      <td>3</td>\n",
       "      <td>aniket</td>\n",
       "      <td>BE</td>\n",
       "      <td>76.88</td>\n",
       "      <td>19</td>\n",
       "    </tr>\n",
       "    <tr>\n",
       "      <th>3</th>\n",
       "      <td>4</td>\n",
       "      <td>ajinkya</td>\n",
       "      <td>TE</td>\n",
       "      <td>69.66</td>\n",
       "      <td>20</td>\n",
       "    </tr>\n",
       "    <tr>\n",
       "      <th>4</th>\n",
       "      <td>5</td>\n",
       "      <td>asha</td>\n",
       "      <td>TE</td>\n",
       "      <td>63.28</td>\n",
       "      <td>20</td>\n",
       "    </tr>\n",
       "    <tr>\n",
       "      <th>5</th>\n",
       "      <td>6</td>\n",
       "      <td>ayesha</td>\n",
       "      <td>BE</td>\n",
       "      <td>49.55</td>\n",
       "      <td>20</td>\n",
       "    </tr>\n",
       "    <tr>\n",
       "      <th>6</th>\n",
       "      <td>7</td>\n",
       "      <td>amar</td>\n",
       "      <td>BE</td>\n",
       "      <td>65.34</td>\n",
       "      <td>19</td>\n",
       "    </tr>\n",
       "  </tbody>\n",
       "</table>\n",
       "</div>"
      ],
      "text/plain": [
       "   roll     name class  marks  age\n",
       "2     3   aniket    BE  76.88   19\n",
       "3     4  ajinkya    TE  69.66   20\n",
       "4     5     asha    TE  63.28   20\n",
       "5     6   ayesha    BE  49.55   20\n",
       "6     7     amar    BE  65.34   19"
      ]
     },
     "execution_count": 41,
     "metadata": {},
     "output_type": "execute_result"
    }
   ],
   "source": [
    "df.iloc[2:7, :]"
   ]
  },
  {
   "cell_type": "code",
   "execution_count": 42,
   "id": "28c2b7e7-3ec0-4b6a-83de-1278167d04bf",
   "metadata": {},
   "outputs": [
    {
     "data": {
      "text/html": [
       "<div>\n",
       "<style scoped>\n",
       "    .dataframe tbody tr th:only-of-type {\n",
       "        vertical-align: middle;\n",
       "    }\n",
       "\n",
       "    .dataframe tbody tr th {\n",
       "        vertical-align: top;\n",
       "    }\n",
       "\n",
       "    .dataframe thead th {\n",
       "        text-align: right;\n",
       "    }\n",
       "</style>\n",
       "<table border=\"1\" class=\"dataframe\">\n",
       "  <thead>\n",
       "    <tr style=\"text-align: right;\">\n",
       "      <th></th>\n",
       "      <th>name</th>\n",
       "      <th>class</th>\n",
       "      <th>marks</th>\n",
       "    </tr>\n",
       "  </thead>\n",
       "  <tbody>\n",
       "    <tr>\n",
       "      <th>1</th>\n",
       "      <td>amit</td>\n",
       "      <td>TE</td>\n",
       "      <td>59.77</td>\n",
       "    </tr>\n",
       "    <tr>\n",
       "      <th>4</th>\n",
       "      <td>asha</td>\n",
       "      <td>TE</td>\n",
       "      <td>63.28</td>\n",
       "    </tr>\n",
       "    <tr>\n",
       "      <th>6</th>\n",
       "      <td>amar</td>\n",
       "      <td>BE</td>\n",
       "      <td>65.34</td>\n",
       "    </tr>\n",
       "    <tr>\n",
       "      <th>7</th>\n",
       "      <td>amita</td>\n",
       "      <td>BE</td>\n",
       "      <td>68.33</td>\n",
       "    </tr>\n",
       "    <tr>\n",
       "      <th>9</th>\n",
       "      <td>anmol</td>\n",
       "      <td>BE</td>\n",
       "      <td>78.66</td>\n",
       "    </tr>\n",
       "  </tbody>\n",
       "</table>\n",
       "</div>"
      ],
      "text/plain": [
       "    name class  marks\n",
       "1   amit    TE  59.77\n",
       "4   asha    TE  63.28\n",
       "6   amar    BE  65.34\n",
       "7  amita    BE  68.33\n",
       "9  anmol    BE  78.66"
      ]
     },
     "execution_count": 42,
     "metadata": {},
     "output_type": "execute_result"
    }
   ],
   "source": [
    "df.iloc[[1,4,6,7,9], 1:4]"
   ]
  },
  {
   "cell_type": "code",
   "execution_count": 44,
   "id": "ea44b59a-3f56-49a0-b5d7-9ba66988e2b3",
   "metadata": {},
   "outputs": [
    {
     "data": {
      "text/html": [
       "<div>\n",
       "<style scoped>\n",
       "    .dataframe tbody tr th:only-of-type {\n",
       "        vertical-align: middle;\n",
       "    }\n",
       "\n",
       "    .dataframe tbody tr th {\n",
       "        vertical-align: top;\n",
       "    }\n",
       "\n",
       "    .dataframe thead th {\n",
       "        text-align: right;\n",
       "    }\n",
       "</style>\n",
       "<table border=\"1\" class=\"dataframe\">\n",
       "  <thead>\n",
       "    <tr style=\"text-align: right;\">\n",
       "      <th></th>\n",
       "      <th>roll</th>\n",
       "      <th>name</th>\n",
       "      <th>class</th>\n",
       "      <th>marks</th>\n",
       "      <th>age</th>\n",
       "    </tr>\n",
       "  </thead>\n",
       "  <tbody>\n",
       "    <tr>\n",
       "      <th>0</th>\n",
       "      <td>1</td>\n",
       "      <td>anil</td>\n",
       "      <td>TE</td>\n",
       "      <td>56.77</td>\n",
       "      <td>22</td>\n",
       "    </tr>\n",
       "    <tr>\n",
       "      <th>1</th>\n",
       "      <td>2</td>\n",
       "      <td>amit</td>\n",
       "      <td>TE</td>\n",
       "      <td>59.77</td>\n",
       "      <td>21</td>\n",
       "    </tr>\n",
       "    <tr>\n",
       "      <th>2</th>\n",
       "      <td>3</td>\n",
       "      <td>aniket</td>\n",
       "      <td>BE</td>\n",
       "      <td>76.88</td>\n",
       "      <td>19</td>\n",
       "    </tr>\n",
       "    <tr>\n",
       "      <th>3</th>\n",
       "      <td>4</td>\n",
       "      <td>ajinkya</td>\n",
       "      <td>TE</td>\n",
       "      <td>69.66</td>\n",
       "      <td>20</td>\n",
       "    </tr>\n",
       "    <tr>\n",
       "      <th>4</th>\n",
       "      <td>5</td>\n",
       "      <td>asha</td>\n",
       "      <td>TE</td>\n",
       "      <td>63.28</td>\n",
       "      <td>20</td>\n",
       "    </tr>\n",
       "    <tr>\n",
       "      <th>6</th>\n",
       "      <td>7</td>\n",
       "      <td>amar</td>\n",
       "      <td>BE</td>\n",
       "      <td>65.34</td>\n",
       "      <td>19</td>\n",
       "    </tr>\n",
       "    <tr>\n",
       "      <th>7</th>\n",
       "      <td>8</td>\n",
       "      <td>amita</td>\n",
       "      <td>BE</td>\n",
       "      <td>68.33</td>\n",
       "      <td>23</td>\n",
       "    </tr>\n",
       "    <tr>\n",
       "      <th>8</th>\n",
       "      <td>9</td>\n",
       "      <td>amol</td>\n",
       "      <td>TE</td>\n",
       "      <td>56.75</td>\n",
       "      <td>20</td>\n",
       "    </tr>\n",
       "    <tr>\n",
       "      <th>9</th>\n",
       "      <td>10</td>\n",
       "      <td>anmol</td>\n",
       "      <td>BE</td>\n",
       "      <td>78.66</td>\n",
       "      <td>21</td>\n",
       "    </tr>\n",
       "  </tbody>\n",
       "</table>\n",
       "</div>"
      ],
      "text/plain": [
       "   roll     name class  marks  age\n",
       "0     1     anil    TE  56.77   22\n",
       "1     2     amit    TE  59.77   21\n",
       "2     3   aniket    BE  76.88   19\n",
       "3     4  ajinkya    TE  69.66   20\n",
       "4     5     asha    TE  63.28   20\n",
       "6     7     amar    BE  65.34   19\n",
       "7     8    amita    BE  68.33   23\n",
       "8     9     amol    TE  56.75   20\n",
       "9    10    anmol    BE  78.66   21"
      ]
     },
     "execution_count": 44,
     "metadata": {},
     "output_type": "execute_result"
    }
   ],
   "source": [
    "df.drop(5)"
   ]
  },
  {
   "cell_type": "code",
   "execution_count": 45,
   "id": "7c40391f-7072-4743-9bd5-557e9a16b315",
   "metadata": {},
   "outputs": [
    {
     "data": {
      "text/html": [
       "<div>\n",
       "<style scoped>\n",
       "    .dataframe tbody tr th:only-of-type {\n",
       "        vertical-align: middle;\n",
       "    }\n",
       "\n",
       "    .dataframe tbody tr th {\n",
       "        vertical-align: top;\n",
       "    }\n",
       "\n",
       "    .dataframe thead th {\n",
       "        text-align: right;\n",
       "    }\n",
       "</style>\n",
       "<table border=\"1\" class=\"dataframe\">\n",
       "  <thead>\n",
       "    <tr style=\"text-align: right;\">\n",
       "      <th></th>\n",
       "      <th>roll</th>\n",
       "      <th>name</th>\n",
       "      <th>marks</th>\n",
       "      <th>age</th>\n",
       "    </tr>\n",
       "  </thead>\n",
       "  <tbody>\n",
       "    <tr>\n",
       "      <th>0</th>\n",
       "      <td>1</td>\n",
       "      <td>anil</td>\n",
       "      <td>56.77</td>\n",
       "      <td>22</td>\n",
       "    </tr>\n",
       "    <tr>\n",
       "      <th>1</th>\n",
       "      <td>2</td>\n",
       "      <td>amit</td>\n",
       "      <td>59.77</td>\n",
       "      <td>21</td>\n",
       "    </tr>\n",
       "    <tr>\n",
       "      <th>2</th>\n",
       "      <td>3</td>\n",
       "      <td>aniket</td>\n",
       "      <td>76.88</td>\n",
       "      <td>19</td>\n",
       "    </tr>\n",
       "    <tr>\n",
       "      <th>3</th>\n",
       "      <td>4</td>\n",
       "      <td>ajinkya</td>\n",
       "      <td>69.66</td>\n",
       "      <td>20</td>\n",
       "    </tr>\n",
       "    <tr>\n",
       "      <th>4</th>\n",
       "      <td>5</td>\n",
       "      <td>asha</td>\n",
       "      <td>63.28</td>\n",
       "      <td>20</td>\n",
       "    </tr>\n",
       "    <tr>\n",
       "      <th>5</th>\n",
       "      <td>6</td>\n",
       "      <td>ayesha</td>\n",
       "      <td>49.55</td>\n",
       "      <td>20</td>\n",
       "    </tr>\n",
       "    <tr>\n",
       "      <th>6</th>\n",
       "      <td>7</td>\n",
       "      <td>amar</td>\n",
       "      <td>65.34</td>\n",
       "      <td>19</td>\n",
       "    </tr>\n",
       "    <tr>\n",
       "      <th>7</th>\n",
       "      <td>8</td>\n",
       "      <td>amita</td>\n",
       "      <td>68.33</td>\n",
       "      <td>23</td>\n",
       "    </tr>\n",
       "    <tr>\n",
       "      <th>8</th>\n",
       "      <td>9</td>\n",
       "      <td>amol</td>\n",
       "      <td>56.75</td>\n",
       "      <td>20</td>\n",
       "    </tr>\n",
       "    <tr>\n",
       "      <th>9</th>\n",
       "      <td>10</td>\n",
       "      <td>anmol</td>\n",
       "      <td>78.66</td>\n",
       "      <td>21</td>\n",
       "    </tr>\n",
       "  </tbody>\n",
       "</table>\n",
       "</div>"
      ],
      "text/plain": [
       "   roll     name  marks  age\n",
       "0     1     anil  56.77   22\n",
       "1     2     amit  59.77   21\n",
       "2     3   aniket  76.88   19\n",
       "3     4  ajinkya  69.66   20\n",
       "4     5     asha  63.28   20\n",
       "5     6   ayesha  49.55   20\n",
       "6     7     amar  65.34   19\n",
       "7     8    amita  68.33   23\n",
       "8     9     amol  56.75   20\n",
       "9    10    anmol  78.66   21"
      ]
     },
     "execution_count": 45,
     "metadata": {},
     "output_type": "execute_result"
    }
   ],
   "source": [
    "df.drop('class', axis = 1)"
   ]
  },
  {
   "cell_type": "code",
   "execution_count": 46,
   "id": "1e6422d0-b0e8-46f3-bb37-a84bf83c8015",
   "metadata": {},
   "outputs": [
    {
     "data": {
      "text/plain": [
       "0       anil\n",
       "1       amit\n",
       "2     aniket\n",
       "3    ajinkya\n",
       "4       asha\n",
       "5     ayesha\n",
       "6       amar\n",
       "7      amita\n",
       "8       amol\n",
       "9      anmol\n",
       "Name: name, dtype: object"
      ]
     },
     "execution_count": 46,
     "metadata": {},
     "output_type": "execute_result"
    }
   ],
   "source": [
    "df['name']"
   ]
  },
  {
   "cell_type": "code",
   "execution_count": 47,
   "id": "dac0409d-f40e-4261-8ca1-079a17fbadbd",
   "metadata": {},
   "outputs": [
    {
     "data": {
      "text/html": [
       "<div>\n",
       "<style scoped>\n",
       "    .dataframe tbody tr th:only-of-type {\n",
       "        vertical-align: middle;\n",
       "    }\n",
       "\n",
       "    .dataframe tbody tr th {\n",
       "        vertical-align: top;\n",
       "    }\n",
       "\n",
       "    .dataframe thead th {\n",
       "        text-align: right;\n",
       "    }\n",
       "</style>\n",
       "<table border=\"1\" class=\"dataframe\">\n",
       "  <thead>\n",
       "    <tr style=\"text-align: right;\">\n",
       "      <th></th>\n",
       "      <th>roll</th>\n",
       "      <th>name</th>\n",
       "      <th>marks</th>\n",
       "    </tr>\n",
       "  </thead>\n",
       "  <tbody>\n",
       "    <tr>\n",
       "      <th>0</th>\n",
       "      <td>1</td>\n",
       "      <td>anil</td>\n",
       "      <td>56.77</td>\n",
       "    </tr>\n",
       "    <tr>\n",
       "      <th>1</th>\n",
       "      <td>2</td>\n",
       "      <td>amit</td>\n",
       "      <td>59.77</td>\n",
       "    </tr>\n",
       "    <tr>\n",
       "      <th>2</th>\n",
       "      <td>3</td>\n",
       "      <td>aniket</td>\n",
       "      <td>76.88</td>\n",
       "    </tr>\n",
       "    <tr>\n",
       "      <th>3</th>\n",
       "      <td>4</td>\n",
       "      <td>ajinkya</td>\n",
       "      <td>69.66</td>\n",
       "    </tr>\n",
       "    <tr>\n",
       "      <th>4</th>\n",
       "      <td>5</td>\n",
       "      <td>asha</td>\n",
       "      <td>63.28</td>\n",
       "    </tr>\n",
       "    <tr>\n",
       "      <th>5</th>\n",
       "      <td>6</td>\n",
       "      <td>ayesha</td>\n",
       "      <td>49.55</td>\n",
       "    </tr>\n",
       "    <tr>\n",
       "      <th>6</th>\n",
       "      <td>7</td>\n",
       "      <td>amar</td>\n",
       "      <td>65.34</td>\n",
       "    </tr>\n",
       "    <tr>\n",
       "      <th>7</th>\n",
       "      <td>8</td>\n",
       "      <td>amita</td>\n",
       "      <td>68.33</td>\n",
       "    </tr>\n",
       "    <tr>\n",
       "      <th>8</th>\n",
       "      <td>9</td>\n",
       "      <td>amol</td>\n",
       "      <td>56.75</td>\n",
       "    </tr>\n",
       "    <tr>\n",
       "      <th>9</th>\n",
       "      <td>10</td>\n",
       "      <td>anmol</td>\n",
       "      <td>78.66</td>\n",
       "    </tr>\n",
       "  </tbody>\n",
       "</table>\n",
       "</div>"
      ],
      "text/plain": [
       "   roll     name  marks\n",
       "0     1     anil  56.77\n",
       "1     2     amit  59.77\n",
       "2     3   aniket  76.88\n",
       "3     4  ajinkya  69.66\n",
       "4     5     asha  63.28\n",
       "5     6   ayesha  49.55\n",
       "6     7     amar  65.34\n",
       "7     8    amita  68.33\n",
       "8     9     amol  56.75\n",
       "9    10    anmol  78.66"
      ]
     },
     "execution_count": 47,
     "metadata": {},
     "output_type": "execute_result"
    }
   ],
   "source": [
    "df[['roll','name','marks']]"
   ]
  },
  {
   "cell_type": "markdown",
   "id": "08983aac-2ed0-4f71-8834-b1fbb3b988dc",
   "metadata": {},
   "source": [
    "##### Functions on data"
   ]
  },
  {
   "cell_type": "code",
   "execution_count": 49,
   "id": "eb186b3c-bcd0-401a-be84-98dfc771671b",
   "metadata": {},
   "outputs": [
    {
     "data": {
      "text/plain": [
       "49.55"
      ]
     },
     "execution_count": 49,
     "metadata": {},
     "output_type": "execute_result"
    }
   ],
   "source": [
    "df['marks'].min()"
   ]
  },
  {
   "cell_type": "code",
   "execution_count": 50,
   "id": "c9eedd82-3651-4eee-af6d-9fbd71091979",
   "metadata": {},
   "outputs": [
    {
     "data": {
      "text/plain": [
       "78.66"
      ]
     },
     "execution_count": 50,
     "metadata": {},
     "output_type": "execute_result"
    }
   ],
   "source": [
    "df['marks'].max()"
   ]
  },
  {
   "cell_type": "code",
   "execution_count": 51,
   "id": "b01303ed-bab1-4c7b-8e71-28f00fcf29af",
   "metadata": {},
   "outputs": [
    {
     "data": {
      "text/plain": [
       "64.499"
      ]
     },
     "execution_count": 51,
     "metadata": {},
     "output_type": "execute_result"
    }
   ],
   "source": [
    "df['marks'].mean()"
   ]
  },
  {
   "cell_type": "code",
   "execution_count": 53,
   "id": "60a2d173-16b8-477d-a21a-282e06dca58b",
   "metadata": {},
   "outputs": [
    {
     "data": {
      "text/plain": [
       "644.9899999999999"
      ]
     },
     "execution_count": 53,
     "metadata": {},
     "output_type": "execute_result"
    }
   ],
   "source": [
    "df['marks'].sum()"
   ]
  },
  {
   "cell_type": "code",
   "execution_count": 54,
   "id": "fc87d1b6-33d8-489a-9dad-8dbb4b1460ab",
   "metadata": {},
   "outputs": [
    {
     "data": {
      "text/plain": [
       "64.31"
      ]
     },
     "execution_count": 54,
     "metadata": {},
     "output_type": "execute_result"
    }
   ],
   "source": [
    "df['marks'].median()"
   ]
  },
  {
   "cell_type": "markdown",
   "id": "e7176240-dca4-466a-a492-121c388214f0",
   "metadata": {},
   "source": [
    "##### Custom Column Operations"
   ]
  },
  {
   "cell_type": "code",
   "execution_count": 56,
   "id": "0cfcb6dd-dd12-405c-a48f-b0b59fc3b653",
   "metadata": {},
   "outputs": [],
   "source": [
    "df['roll'] = df['roll'] + 100"
   ]
  },
  {
   "cell_type": "code",
   "execution_count": 57,
   "id": "8cd126ef-8697-47fe-9d15-aee2dcd3d4f8",
   "metadata": {},
   "outputs": [
    {
     "data": {
      "text/html": [
       "<div>\n",
       "<style scoped>\n",
       "    .dataframe tbody tr th:only-of-type {\n",
       "        vertical-align: middle;\n",
       "    }\n",
       "\n",
       "    .dataframe tbody tr th {\n",
       "        vertical-align: top;\n",
       "    }\n",
       "\n",
       "    .dataframe thead th {\n",
       "        text-align: right;\n",
       "    }\n",
       "</style>\n",
       "<table border=\"1\" class=\"dataframe\">\n",
       "  <thead>\n",
       "    <tr style=\"text-align: right;\">\n",
       "      <th></th>\n",
       "      <th>roll</th>\n",
       "      <th>name</th>\n",
       "      <th>class</th>\n",
       "      <th>marks</th>\n",
       "      <th>age</th>\n",
       "    </tr>\n",
       "  </thead>\n",
       "  <tbody>\n",
       "    <tr>\n",
       "      <th>0</th>\n",
       "      <td>101</td>\n",
       "      <td>anil</td>\n",
       "      <td>TE</td>\n",
       "      <td>56.77</td>\n",
       "      <td>22</td>\n",
       "    </tr>\n",
       "    <tr>\n",
       "      <th>1</th>\n",
       "      <td>102</td>\n",
       "      <td>amit</td>\n",
       "      <td>TE</td>\n",
       "      <td>59.77</td>\n",
       "      <td>21</td>\n",
       "    </tr>\n",
       "    <tr>\n",
       "      <th>2</th>\n",
       "      <td>103</td>\n",
       "      <td>aniket</td>\n",
       "      <td>BE</td>\n",
       "      <td>76.88</td>\n",
       "      <td>19</td>\n",
       "    </tr>\n",
       "    <tr>\n",
       "      <th>3</th>\n",
       "      <td>104</td>\n",
       "      <td>ajinkya</td>\n",
       "      <td>TE</td>\n",
       "      <td>69.66</td>\n",
       "      <td>20</td>\n",
       "    </tr>\n",
       "    <tr>\n",
       "      <th>4</th>\n",
       "      <td>105</td>\n",
       "      <td>asha</td>\n",
       "      <td>TE</td>\n",
       "      <td>63.28</td>\n",
       "      <td>20</td>\n",
       "    </tr>\n",
       "    <tr>\n",
       "      <th>5</th>\n",
       "      <td>106</td>\n",
       "      <td>ayesha</td>\n",
       "      <td>BE</td>\n",
       "      <td>49.55</td>\n",
       "      <td>20</td>\n",
       "    </tr>\n",
       "    <tr>\n",
       "      <th>6</th>\n",
       "      <td>107</td>\n",
       "      <td>amar</td>\n",
       "      <td>BE</td>\n",
       "      <td>65.34</td>\n",
       "      <td>19</td>\n",
       "    </tr>\n",
       "    <tr>\n",
       "      <th>7</th>\n",
       "      <td>108</td>\n",
       "      <td>amita</td>\n",
       "      <td>BE</td>\n",
       "      <td>68.33</td>\n",
       "      <td>23</td>\n",
       "    </tr>\n",
       "    <tr>\n",
       "      <th>8</th>\n",
       "      <td>109</td>\n",
       "      <td>amol</td>\n",
       "      <td>TE</td>\n",
       "      <td>56.75</td>\n",
       "      <td>20</td>\n",
       "    </tr>\n",
       "    <tr>\n",
       "      <th>9</th>\n",
       "      <td>110</td>\n",
       "      <td>anmol</td>\n",
       "      <td>BE</td>\n",
       "      <td>78.66</td>\n",
       "      <td>21</td>\n",
       "    </tr>\n",
       "  </tbody>\n",
       "</table>\n",
       "</div>"
      ],
      "text/plain": [
       "   roll     name class  marks  age\n",
       "0   101     anil    TE  56.77   22\n",
       "1   102     amit    TE  59.77   21\n",
       "2   103   aniket    BE  76.88   19\n",
       "3   104  ajinkya    TE  69.66   20\n",
       "4   105     asha    TE  63.28   20\n",
       "5   106   ayesha    BE  49.55   20\n",
       "6   107     amar    BE  65.34   19\n",
       "7   108    amita    BE  68.33   23\n",
       "8   109     amol    TE  56.75   20\n",
       "9   110    anmol    BE  78.66   21"
      ]
     },
     "execution_count": 57,
     "metadata": {},
     "output_type": "execute_result"
    }
   ],
   "source": [
    "df"
   ]
  },
  {
   "cell_type": "code",
   "execution_count": 58,
   "id": "e97fafc9-990a-4b1c-9c3f-732c870f1001",
   "metadata": {},
   "outputs": [],
   "source": [
    "df['marks'] = df['marks'] + 0.45"
   ]
  },
  {
   "cell_type": "code",
   "execution_count": 59,
   "id": "ea20c489-6f78-4137-ae60-2ea6383170dd",
   "metadata": {},
   "outputs": [
    {
     "data": {
      "text/html": [
       "<div>\n",
       "<style scoped>\n",
       "    .dataframe tbody tr th:only-of-type {\n",
       "        vertical-align: middle;\n",
       "    }\n",
       "\n",
       "    .dataframe tbody tr th {\n",
       "        vertical-align: top;\n",
       "    }\n",
       "\n",
       "    .dataframe thead th {\n",
       "        text-align: right;\n",
       "    }\n",
       "</style>\n",
       "<table border=\"1\" class=\"dataframe\">\n",
       "  <thead>\n",
       "    <tr style=\"text-align: right;\">\n",
       "      <th></th>\n",
       "      <th>roll</th>\n",
       "      <th>name</th>\n",
       "      <th>class</th>\n",
       "      <th>marks</th>\n",
       "      <th>age</th>\n",
       "    </tr>\n",
       "  </thead>\n",
       "  <tbody>\n",
       "    <tr>\n",
       "      <th>0</th>\n",
       "      <td>101</td>\n",
       "      <td>anil</td>\n",
       "      <td>TE</td>\n",
       "      <td>57.22</td>\n",
       "      <td>22</td>\n",
       "    </tr>\n",
       "    <tr>\n",
       "      <th>1</th>\n",
       "      <td>102</td>\n",
       "      <td>amit</td>\n",
       "      <td>TE</td>\n",
       "      <td>60.22</td>\n",
       "      <td>21</td>\n",
       "    </tr>\n",
       "    <tr>\n",
       "      <th>2</th>\n",
       "      <td>103</td>\n",
       "      <td>aniket</td>\n",
       "      <td>BE</td>\n",
       "      <td>77.33</td>\n",
       "      <td>19</td>\n",
       "    </tr>\n",
       "    <tr>\n",
       "      <th>3</th>\n",
       "      <td>104</td>\n",
       "      <td>ajinkya</td>\n",
       "      <td>TE</td>\n",
       "      <td>70.11</td>\n",
       "      <td>20</td>\n",
       "    </tr>\n",
       "    <tr>\n",
       "      <th>4</th>\n",
       "      <td>105</td>\n",
       "      <td>asha</td>\n",
       "      <td>TE</td>\n",
       "      <td>63.73</td>\n",
       "      <td>20</td>\n",
       "    </tr>\n",
       "    <tr>\n",
       "      <th>5</th>\n",
       "      <td>106</td>\n",
       "      <td>ayesha</td>\n",
       "      <td>BE</td>\n",
       "      <td>50.00</td>\n",
       "      <td>20</td>\n",
       "    </tr>\n",
       "    <tr>\n",
       "      <th>6</th>\n",
       "      <td>107</td>\n",
       "      <td>amar</td>\n",
       "      <td>BE</td>\n",
       "      <td>65.79</td>\n",
       "      <td>19</td>\n",
       "    </tr>\n",
       "    <tr>\n",
       "      <th>7</th>\n",
       "      <td>108</td>\n",
       "      <td>amita</td>\n",
       "      <td>BE</td>\n",
       "      <td>68.78</td>\n",
       "      <td>23</td>\n",
       "    </tr>\n",
       "    <tr>\n",
       "      <th>8</th>\n",
       "      <td>109</td>\n",
       "      <td>amol</td>\n",
       "      <td>TE</td>\n",
       "      <td>57.20</td>\n",
       "      <td>20</td>\n",
       "    </tr>\n",
       "    <tr>\n",
       "      <th>9</th>\n",
       "      <td>110</td>\n",
       "      <td>anmol</td>\n",
       "      <td>BE</td>\n",
       "      <td>79.11</td>\n",
       "      <td>21</td>\n",
       "    </tr>\n",
       "  </tbody>\n",
       "</table>\n",
       "</div>"
      ],
      "text/plain": [
       "   roll     name class  marks  age\n",
       "0   101     anil    TE  57.22   22\n",
       "1   102     amit    TE  60.22   21\n",
       "2   103   aniket    BE  77.33   19\n",
       "3   104  ajinkya    TE  70.11   20\n",
       "4   105     asha    TE  63.73   20\n",
       "5   106   ayesha    BE  50.00   20\n",
       "6   107     amar    BE  65.79   19\n",
       "7   108    amita    BE  68.78   23\n",
       "8   109     amol    TE  57.20   20\n",
       "9   110    anmol    BE  79.11   21"
      ]
     },
     "execution_count": 59,
     "metadata": {},
     "output_type": "execute_result"
    }
   ],
   "source": [
    "df"
   ]
  },
  {
   "cell_type": "code",
   "execution_count": 60,
   "id": "4c665f86-b3bf-4c26-b9d5-7711dde43ec4",
   "metadata": {},
   "outputs": [],
   "source": [
    "df['cgpa'] = df['marks'] / 10 + 0.49"
   ]
  },
  {
   "cell_type": "code",
   "execution_count": 61,
   "id": "3cbc141e-5148-4a7f-ad07-e5a95cc26cb6",
   "metadata": {},
   "outputs": [
    {
     "data": {
      "text/html": [
       "<div>\n",
       "<style scoped>\n",
       "    .dataframe tbody tr th:only-of-type {\n",
       "        vertical-align: middle;\n",
       "    }\n",
       "\n",
       "    .dataframe tbody tr th {\n",
       "        vertical-align: top;\n",
       "    }\n",
       "\n",
       "    .dataframe thead th {\n",
       "        text-align: right;\n",
       "    }\n",
       "</style>\n",
       "<table border=\"1\" class=\"dataframe\">\n",
       "  <thead>\n",
       "    <tr style=\"text-align: right;\">\n",
       "      <th></th>\n",
       "      <th>roll</th>\n",
       "      <th>name</th>\n",
       "      <th>class</th>\n",
       "      <th>marks</th>\n",
       "      <th>age</th>\n",
       "      <th>cgpa</th>\n",
       "    </tr>\n",
       "  </thead>\n",
       "  <tbody>\n",
       "    <tr>\n",
       "      <th>0</th>\n",
       "      <td>101</td>\n",
       "      <td>anil</td>\n",
       "      <td>TE</td>\n",
       "      <td>57.22</td>\n",
       "      <td>22</td>\n",
       "      <td>6.212</td>\n",
       "    </tr>\n",
       "    <tr>\n",
       "      <th>1</th>\n",
       "      <td>102</td>\n",
       "      <td>amit</td>\n",
       "      <td>TE</td>\n",
       "      <td>60.22</td>\n",
       "      <td>21</td>\n",
       "      <td>6.512</td>\n",
       "    </tr>\n",
       "    <tr>\n",
       "      <th>2</th>\n",
       "      <td>103</td>\n",
       "      <td>aniket</td>\n",
       "      <td>BE</td>\n",
       "      <td>77.33</td>\n",
       "      <td>19</td>\n",
       "      <td>8.223</td>\n",
       "    </tr>\n",
       "    <tr>\n",
       "      <th>3</th>\n",
       "      <td>104</td>\n",
       "      <td>ajinkya</td>\n",
       "      <td>TE</td>\n",
       "      <td>70.11</td>\n",
       "      <td>20</td>\n",
       "      <td>7.501</td>\n",
       "    </tr>\n",
       "    <tr>\n",
       "      <th>4</th>\n",
       "      <td>105</td>\n",
       "      <td>asha</td>\n",
       "      <td>TE</td>\n",
       "      <td>63.73</td>\n",
       "      <td>20</td>\n",
       "      <td>6.863</td>\n",
       "    </tr>\n",
       "    <tr>\n",
       "      <th>5</th>\n",
       "      <td>106</td>\n",
       "      <td>ayesha</td>\n",
       "      <td>BE</td>\n",
       "      <td>50.00</td>\n",
       "      <td>20</td>\n",
       "      <td>5.490</td>\n",
       "    </tr>\n",
       "    <tr>\n",
       "      <th>6</th>\n",
       "      <td>107</td>\n",
       "      <td>amar</td>\n",
       "      <td>BE</td>\n",
       "      <td>65.79</td>\n",
       "      <td>19</td>\n",
       "      <td>7.069</td>\n",
       "    </tr>\n",
       "    <tr>\n",
       "      <th>7</th>\n",
       "      <td>108</td>\n",
       "      <td>amita</td>\n",
       "      <td>BE</td>\n",
       "      <td>68.78</td>\n",
       "      <td>23</td>\n",
       "      <td>7.368</td>\n",
       "    </tr>\n",
       "    <tr>\n",
       "      <th>8</th>\n",
       "      <td>109</td>\n",
       "      <td>amol</td>\n",
       "      <td>TE</td>\n",
       "      <td>57.20</td>\n",
       "      <td>20</td>\n",
       "      <td>6.210</td>\n",
       "    </tr>\n",
       "    <tr>\n",
       "      <th>9</th>\n",
       "      <td>110</td>\n",
       "      <td>anmol</td>\n",
       "      <td>BE</td>\n",
       "      <td>79.11</td>\n",
       "      <td>21</td>\n",
       "      <td>8.401</td>\n",
       "    </tr>\n",
       "  </tbody>\n",
       "</table>\n",
       "</div>"
      ],
      "text/plain": [
       "   roll     name class  marks  age   cgpa\n",
       "0   101     anil    TE  57.22   22  6.212\n",
       "1   102     amit    TE  60.22   21  6.512\n",
       "2   103   aniket    BE  77.33   19  8.223\n",
       "3   104  ajinkya    TE  70.11   20  7.501\n",
       "4   105     asha    TE  63.73   20  6.863\n",
       "5   106   ayesha    BE  50.00   20  5.490\n",
       "6   107     amar    BE  65.79   19  7.069\n",
       "7   108    amita    BE  68.78   23  7.368\n",
       "8   109     amol    TE  57.20   20  6.210\n",
       "9   110    anmol    BE  79.11   21  8.401"
      ]
     },
     "execution_count": 61,
     "metadata": {},
     "output_type": "execute_result"
    }
   ],
   "source": [
    "df"
   ]
  },
  {
   "cell_type": "markdown",
   "id": "ef7ade03-42ee-4d03-8d38-eba14ca4989b",
   "metadata": {},
   "source": [
    "##### Boolean Filtering"
   ]
  },
  {
   "cell_type": "code",
   "execution_count": 63,
   "id": "c269cfcf-92c5-4326-ad8f-ffae9eb89adf",
   "metadata": {},
   "outputs": [
    {
     "data": {
      "text/plain": [
       "0    False\n",
       "1     True\n",
       "2     True\n",
       "3     True\n",
       "4     True\n",
       "5    False\n",
       "6     True\n",
       "7     True\n",
       "8    False\n",
       "9     True\n",
       "Name: marks, dtype: bool"
      ]
     },
     "execution_count": 63,
     "metadata": {},
     "output_type": "execute_result"
    }
   ],
   "source": [
    "df['marks'] >= 60"
   ]
  },
  {
   "cell_type": "code",
   "execution_count": 64,
   "id": "2b050c37-63fd-4539-9464-de2026bc939d",
   "metadata": {},
   "outputs": [
    {
     "data": {
      "text/html": [
       "<div>\n",
       "<style scoped>\n",
       "    .dataframe tbody tr th:only-of-type {\n",
       "        vertical-align: middle;\n",
       "    }\n",
       "\n",
       "    .dataframe tbody tr th {\n",
       "        vertical-align: top;\n",
       "    }\n",
       "\n",
       "    .dataframe thead th {\n",
       "        text-align: right;\n",
       "    }\n",
       "</style>\n",
       "<table border=\"1\" class=\"dataframe\">\n",
       "  <thead>\n",
       "    <tr style=\"text-align: right;\">\n",
       "      <th></th>\n",
       "      <th>roll</th>\n",
       "      <th>name</th>\n",
       "      <th>class</th>\n",
       "      <th>marks</th>\n",
       "      <th>age</th>\n",
       "      <th>cgpa</th>\n",
       "    </tr>\n",
       "  </thead>\n",
       "  <tbody>\n",
       "    <tr>\n",
       "      <th>1</th>\n",
       "      <td>102</td>\n",
       "      <td>amit</td>\n",
       "      <td>TE</td>\n",
       "      <td>60.22</td>\n",
       "      <td>21</td>\n",
       "      <td>6.512</td>\n",
       "    </tr>\n",
       "    <tr>\n",
       "      <th>2</th>\n",
       "      <td>103</td>\n",
       "      <td>aniket</td>\n",
       "      <td>BE</td>\n",
       "      <td>77.33</td>\n",
       "      <td>19</td>\n",
       "      <td>8.223</td>\n",
       "    </tr>\n",
       "    <tr>\n",
       "      <th>3</th>\n",
       "      <td>104</td>\n",
       "      <td>ajinkya</td>\n",
       "      <td>TE</td>\n",
       "      <td>70.11</td>\n",
       "      <td>20</td>\n",
       "      <td>7.501</td>\n",
       "    </tr>\n",
       "    <tr>\n",
       "      <th>4</th>\n",
       "      <td>105</td>\n",
       "      <td>asha</td>\n",
       "      <td>TE</td>\n",
       "      <td>63.73</td>\n",
       "      <td>20</td>\n",
       "      <td>6.863</td>\n",
       "    </tr>\n",
       "    <tr>\n",
       "      <th>6</th>\n",
       "      <td>107</td>\n",
       "      <td>amar</td>\n",
       "      <td>BE</td>\n",
       "      <td>65.79</td>\n",
       "      <td>19</td>\n",
       "      <td>7.069</td>\n",
       "    </tr>\n",
       "    <tr>\n",
       "      <th>7</th>\n",
       "      <td>108</td>\n",
       "      <td>amita</td>\n",
       "      <td>BE</td>\n",
       "      <td>68.78</td>\n",
       "      <td>23</td>\n",
       "      <td>7.368</td>\n",
       "    </tr>\n",
       "    <tr>\n",
       "      <th>9</th>\n",
       "      <td>110</td>\n",
       "      <td>anmol</td>\n",
       "      <td>BE</td>\n",
       "      <td>79.11</td>\n",
       "      <td>21</td>\n",
       "      <td>8.401</td>\n",
       "    </tr>\n",
       "  </tbody>\n",
       "</table>\n",
       "</div>"
      ],
      "text/plain": [
       "   roll     name class  marks  age   cgpa\n",
       "1   102     amit    TE  60.22   21  6.512\n",
       "2   103   aniket    BE  77.33   19  8.223\n",
       "3   104  ajinkya    TE  70.11   20  7.501\n",
       "4   105     asha    TE  63.73   20  6.863\n",
       "6   107     amar    BE  65.79   19  7.069\n",
       "7   108    amita    BE  68.78   23  7.368\n",
       "9   110    anmol    BE  79.11   21  8.401"
      ]
     },
     "execution_count": 64,
     "metadata": {},
     "output_type": "execute_result"
    }
   ],
   "source": [
    "df[df['marks'] >= 60]"
   ]
  },
  {
   "cell_type": "code",
   "execution_count": 65,
   "id": "014dad10-d34e-4bc4-8a39-ade34bf45d27",
   "metadata": {},
   "outputs": [],
   "source": [
    "x = df[(df['marks'] >= 60) & (df['class'] == 'BE')]"
   ]
  },
  {
   "cell_type": "code",
   "execution_count": 66,
   "id": "b560e296-f298-43b6-bb0f-945941981492",
   "metadata": {},
   "outputs": [
    {
     "data": {
      "text/html": [
       "<div>\n",
       "<style scoped>\n",
       "    .dataframe tbody tr th:only-of-type {\n",
       "        vertical-align: middle;\n",
       "    }\n",
       "\n",
       "    .dataframe tbody tr th {\n",
       "        vertical-align: top;\n",
       "    }\n",
       "\n",
       "    .dataframe thead th {\n",
       "        text-align: right;\n",
       "    }\n",
       "</style>\n",
       "<table border=\"1\" class=\"dataframe\">\n",
       "  <thead>\n",
       "    <tr style=\"text-align: right;\">\n",
       "      <th></th>\n",
       "      <th>roll</th>\n",
       "      <th>name</th>\n",
       "      <th>class</th>\n",
       "      <th>marks</th>\n",
       "      <th>age</th>\n",
       "      <th>cgpa</th>\n",
       "    </tr>\n",
       "  </thead>\n",
       "  <tbody>\n",
       "    <tr>\n",
       "      <th>2</th>\n",
       "      <td>103</td>\n",
       "      <td>aniket</td>\n",
       "      <td>BE</td>\n",
       "      <td>77.33</td>\n",
       "      <td>19</td>\n",
       "      <td>8.223</td>\n",
       "    </tr>\n",
       "    <tr>\n",
       "      <th>6</th>\n",
       "      <td>107</td>\n",
       "      <td>amar</td>\n",
       "      <td>BE</td>\n",
       "      <td>65.79</td>\n",
       "      <td>19</td>\n",
       "      <td>7.069</td>\n",
       "    </tr>\n",
       "    <tr>\n",
       "      <th>7</th>\n",
       "      <td>108</td>\n",
       "      <td>amita</td>\n",
       "      <td>BE</td>\n",
       "      <td>68.78</td>\n",
       "      <td>23</td>\n",
       "      <td>7.368</td>\n",
       "    </tr>\n",
       "    <tr>\n",
       "      <th>9</th>\n",
       "      <td>110</td>\n",
       "      <td>anmol</td>\n",
       "      <td>BE</td>\n",
       "      <td>79.11</td>\n",
       "      <td>21</td>\n",
       "      <td>8.401</td>\n",
       "    </tr>\n",
       "  </tbody>\n",
       "</table>\n",
       "</div>"
      ],
      "text/plain": [
       "   roll    name class  marks  age   cgpa\n",
       "2   103  aniket    BE  77.33   19  8.223\n",
       "6   107    amar    BE  65.79   19  7.069\n",
       "7   108   amita    BE  68.78   23  7.368\n",
       "9   110   anmol    BE  79.11   21  8.401"
      ]
     },
     "execution_count": 66,
     "metadata": {},
     "output_type": "execute_result"
    }
   ],
   "source": [
    "x"
   ]
  },
  {
   "cell_type": "markdown",
   "id": "1fe3d218-0404-4918-a9f3-b7c76e2e4ebd",
   "metadata": {},
   "source": [
    "##### Export the data"
   ]
  },
  {
   "cell_type": "code",
   "execution_count": 68,
   "id": "75fb934f-6b4d-43f7-aebd-fb7d9b711169",
   "metadata": {},
   "outputs": [],
   "source": [
    "x.to_csv('output.csv', index=False)"
   ]
  },
  {
   "cell_type": "code",
   "execution_count": 69,
   "id": "79fc6b40-c31b-40f2-b3aa-119385bd2254",
   "metadata": {},
   "outputs": [],
   "source": [
    "x.to_html('output.html', index=False)"
   ]
  },
  {
   "cell_type": "code",
   "execution_count": null,
   "id": "ac738bc9-8a36-4c70-ba31-4eb7cc1abc86",
   "metadata": {},
   "outputs": [],
   "source": []
  }
 ],
 "metadata": {
  "kernelspec": {
   "display_name": "Python 3 (ipykernel)",
   "language": "python",
   "name": "python3"
  },
  "language_info": {
   "codemirror_mode": {
    "name": "ipython",
    "version": 3
   },
   "file_extension": ".py",
   "mimetype": "text/x-python",
   "name": "python",
   "nbconvert_exporter": "python",
   "pygments_lexer": "ipython3",
   "version": "3.10.12"
  }
 },
 "nbformat": 4,
 "nbformat_minor": 5
}
